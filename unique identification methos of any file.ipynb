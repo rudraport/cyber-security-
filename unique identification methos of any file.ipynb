{
 "cells": [
  {
   "cell_type": "code",
   "execution_count": 2,
   "id": "8b157dfa",
   "metadata": {},
   "outputs": [
    {
     "name": "stdout",
     "output_type": "stream",
     "text": [
      ".ipython\n",
      "mysql-8.0.26-linux-glibc2.12-x86_64\n",
      ".conda\n",
      "Videos\n",
      "Documents\n",
      "mysql-utilities-1.6.5\n",
      ".ipynb_checkpoints\n",
      "Public\n",
      "Desktop\n",
      ".pki\n",
      ".jupyter\n",
      ".mozilla\n",
      ".nv\n",
      ".cache\n",
      "Templates\n",
      "snap\n",
      ".mysql\n",
      ".gnupg\n",
      ".config\n",
      "Downloads\n",
      "anaconda3\n",
      "Music\n",
      "Pictures\n",
      ".local\n",
      ".zoom\n",
      "[{'sha256Hashed': '35893c1879b24f4fafec466be541ae6e6743e49bbfa8a8d8840629a0e3fd860a6771e0f0f584840a499a5a13ac6fcbc7b8ca8c17ed521582ac29033ec00fcda8', 'md5': '6f8a3e01ae7e7bbc9002bf30127f8476', 'file_name': '.xsession-errors', 'dir': '/home/rudranil'}, {'sha256Hashed': '9a819de5d6d6eafe6ec9b55c979179bd7bebc6aec4bab8a6883f8caa25cd33106d4258c33c81c001b98ca3d94c526588edb27af399ee2fbd07e88ed1a56398e3', 'md5': 'b619ce9e975bc74f72dad916365b6662', 'file_name': 'morning assesment.sql', 'dir': '/home/rudranil'}, {'sha256Hashed': '4e39abba7f6a5f841e050ae4b73dd1b283cca5af75ca5a124b3c3f5e8e23ca5f31caff30db1e2b6435acdd7be7d668b1b7fdfb78b8f2d58f3bb9f42a37dac560', 'md5': '77291135e84467a4b0a0932b96089712', 'file_name': '.bash_history', 'dir': '/home/rudranil'}, {'sha256Hashed': 'c82b6780fc045fdbfe79a8b921118519012c602bd5de203b17448f1daf0afd932d2eb6b69ff8e54b87d7b5e6755f5210b6419ad4d0b240ffe317022b9b5e4b78', 'md5': 'fa90bd32f49e844b68a4c4fb3e17a94f', 'file_name': '.bashrc', 'dir': '/home/rudranil'}, {'sha256Hashed': '2c7c12101700f997717b790b6da20dec990558eb4c10ae538de52c5bedab7824f7f0f2f67240201265351f20a4597cb1c500dc541bd0d4f70d41c18b8a86f013', 'md5': 'effc2c090e181c1f3f64f7d6c51c4332', 'file_name': 'Untitled.ipynb', 'dir': '/home/rudranil'}, {'sha256Hashed': 'c3d739f4934824d81f561c9b626b494e3c256b5a97642667882632db030fc1a8c7d23eb1ae5db7e9f63ae46ee84dbee69d15130dd1482a2c1e8aade1dfc545a2', 'md5': '22bfb8c1dd94b5f3813a2b25da67463f', 'file_name': '.bash_logout', 'dir': '/home/rudranil'}, {'sha256Hashed': '26544e0b85ca6d7cca3b8ace7d01f712e24020f07b6a6ad54a6942909040221f09bf922a4d0da555ce64ceebb4934b28719a23a0e6401337a69d4a0170bd8e4c', 'md5': 'f4e81ade7d6f9fb342541152d08e7a97', 'file_name': '.profile', 'dir': '/home/rudranil'}, {'sha256Hashed': '7ad9cd950b72142f8a843d047a33d34f63e28bde322ec1e6d1165db03ed93709a5e2beb4554dde4cfda82156eef3a6ad17a55be992f069bba46708b0d81e36f9', 'md5': '8b735e4834861bc24fdcb7d52147bce7', 'file_name': '.nvidia-settings-rc', 'dir': '/home/rudranil'}, {'sha256Hashed': '79d1cdee6f8397a7e0014a23127c070006a5cbdf5e8eb6e39ca775e64c99d7a95abfd9059d2f0e654b9ddf2bb9c18ea71d15efc2e70f894542a5bb702db9168f', 'md5': 'da7f295e9ab37ca2bef2fa4fcec5d862', 'file_name': '.Xauthority', 'dir': '/home/rudranil'}, {'sha256Hashed': 'cf83e1357eefb8bdf1542850d66d8007d620e4050b5715dc83f4a921d36ce9ce47d0d13c5d85f2b0ff8318d2877eec2f63b931bd47417a81a538327af927da3e', 'md5': 'd41d8cd98f00b204e9800998ecf8427e', 'file_name': '.sudo_as_admin_successful', 'dir': '/home/rudranil'}, {'sha256Hashed': '255944dc9afc36f964e050565ab64afac80a9b4b8f838279eedefb4d612339e448a0c8eaad1f126ade88963f03f3f3d51401090f49e40a1bb2918b2fd39c015e', 'md5': 'cb5b6e8e43250100a6343be43d49747d', 'file_name': '.dmrc', 'dir': '/home/rudranil'}, {'sha256Hashed': '81978fec14a916170593eb432e319d7c5492c2691044d8a7bd8daea5411f38c9b75a9c23c1d8f55c2f2d6c7dbc09c6f9d5a6a3fe8fae917ce4f0531b54c9b699', 'md5': '2c5a7d0271e89bb53d276ce3eac9cc9b', 'file_name': 'fulldump.sql', 'dir': '/home/rudranil'}, {'sha256Hashed': '35893c1879b24f4fafec466be541ae6e6743e49bbfa8a8d8840629a0e3fd860a6771e0f0f584840a499a5a13ac6fcbc7b8ca8c17ed521582ac29033ec00fcda8', 'md5': '6f8a3e01ae7e7bbc9002bf30127f8476', 'file_name': '.xsession-errors.old', 'dir': '/home/rudranil'}]\n"
     ]
    }
   ],
   "source": [
    "import hashlib\n",
    "import os\n",
    "cwd = os.getcwd()\n",
    "files = os.listdir(cwd) #Relative Path\n",
    "dict_file =[]\n",
    "for x in files:\n",
    "    try:\n",
    "       \n",
    "        hash_dict ={}\n",
    "        openedFile = open(x,'rb')\n",
    "        readFile = openedFile.read()\n",
    "\n",
    "        md5Hash = hashlib.md5(readFile)\n",
    "        md5Hashed = md5Hash.hexdigest()\n",
    "\n",
    "        sha256Hash = hashlib.sha512(readFile)\n",
    "        sha256Hashed = sha256Hash.hexdigest()\n",
    "        hash_dict['sha256Hashed'] =sha256Hashed\n",
    "        hash_dict['md5'] =md5Hashed\n",
    "       \n",
    "        hash_dict['file_name'] = x\n",
    "        hash_dict['dir']= cwd\n",
    "        dict_file =dict_file + [hash_dict]\n",
    "    except:\n",
    "        print(x)\n",
    "   \n",
    "print(dict_file)"
   ]
  },
  {
   "cell_type": "code",
   "execution_count": 3,
   "id": "ac77ddc4",
   "metadata": {},
   "outputs": [
    {
     "ename": "SyntaxError",
     "evalue": "invalid syntax (<ipython-input-3-5264b90ca80f>, line 1)",
     "output_type": "error",
     "traceback": [
      "\u001b[0;36m  File \u001b[0;32m\"<ipython-input-3-5264b90ca80f>\"\u001b[0;36m, line \u001b[0;32m1\u001b[0m\n\u001b[0;31m    input hash.lib\u001b[0m\n\u001b[0m          ^\u001b[0m\n\u001b[0;31mSyntaxError\u001b[0m\u001b[0;31m:\u001b[0m invalid syntax\n"
     ]
    }
   ],
   "source": [
    "input hash.lib\n"
   ]
  },
  {
   "cell_type": "code",
   "execution_count": 4,
   "id": "25f4d706",
   "metadata": {},
   "outputs": [
    {
     "ename": "ModuleNotFoundError",
     "evalue": "No module named 'hah'",
     "output_type": "error",
     "traceback": [
      "\u001b[0;31m---------------------------------------------------------------------------\u001b[0m",
      "\u001b[0;31mModuleNotFoundError\u001b[0m                       Traceback (most recent call last)",
      "\u001b[0;32m<ipython-input-4-771b01d567cc>\u001b[0m in \u001b[0;36m<module>\u001b[0;34m\u001b[0m\n\u001b[0;32m----> 1\u001b[0;31m \u001b[0;32mimport\u001b[0m \u001b[0mhah\u001b[0m\u001b[0;34m.\u001b[0m\u001b[0mlib\u001b[0m\u001b[0;34m\u001b[0m\u001b[0;34m\u001b[0m\u001b[0m\n\u001b[0m",
      "\u001b[0;31mModuleNotFoundError\u001b[0m: No module named 'hah'"
     ]
    }
   ],
   "source": [
    "import hah.lib"
   ]
  },
  {
   "cell_type": "code",
   "execution_count": null,
   "id": "e79c5a1d",
   "metadata": {},
   "outputs": [],
   "source": []
  }
 ],
 "metadata": {
  "kernelspec": {
   "display_name": "Python 3",
   "language": "python",
   "name": "python3"
  },
  "language_info": {
   "codemirror_mode": {
    "name": "ipython",
    "version": 3
   },
   "file_extension": ".py",
   "mimetype": "text/x-python",
   "name": "python",
   "nbconvert_exporter": "python",
   "pygments_lexer": "ipython3",
   "version": "3.8.8"
  }
 },
 "nbformat": 4,
 "nbformat_minor": 5
}
